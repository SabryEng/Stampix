{
 "cells": [
  {
   "cell_type": "code",
   "execution_count": 5,
   "id": "5baefaa5",
   "metadata": {},
   "outputs": [
    {
     "name": "stderr",
     "output_type": "stream",
     "text": [
      "C:\\Users\\i\\anaconda3\\envs\\tf-gpu\\lib\\site-packages\\numpy\\_distributor_init.py:30: UserWarning: loaded more than 1 DLL from .libs:\n",
      "C:\\Users\\i\\anaconda3\\envs\\tf-gpu\\lib\\site-packages\\numpy\\.libs\\libopenblas.FB5AE2TYXYH2IJRDKGDGQ3XBKLKTF43H.gfortran-win_amd64.dll\n",
      "C:\\Users\\i\\anaconda3\\envs\\tf-gpu\\lib\\site-packages\\numpy\\.libs\\libopenblas64__v0.3.23-246-g3d31191b-gcc_10_3_0.dll\n",
      "  warnings.warn(\"loaded more than 1 DLL from .libs:\"\n"
     ]
    }
   ],
   "source": [
    "# ! pip install flask\n",
    "import numpy as np\n",
    "import pandas as pd"
   ]
  },
  {
   "cell_type": "code",
   "execution_count": 15,
   "id": "c6b5c2a2",
   "metadata": {},
   "outputs": [
    {
     "data": {
      "text/html": [
       "<div>\n",
       "<style scoped>\n",
       "    .dataframe tbody tr th:only-of-type {\n",
       "        vertical-align: middle;\n",
       "    }\n",
       "\n",
       "    .dataframe tbody tr th {\n",
       "        vertical-align: top;\n",
       "    }\n",
       "\n",
       "    .dataframe thead th {\n",
       "        text-align: right;\n",
       "    }\n",
       "</style>\n",
       "<table border=\"1\" class=\"dataframe\">\n",
       "  <thead>\n",
       "    <tr style=\"text-align: right;\">\n",
       "      <th></th>\n",
       "      <th>Image</th>\n",
       "      <th>Score</th>\n",
       "    </tr>\n",
       "  </thead>\n",
       "  <tbody>\n",
       "    <tr>\n",
       "      <th>0</th>\n",
       "      <td>stampix (1).jpeg</td>\n",
       "      <td>0.90</td>\n",
       "    </tr>\n",
       "    <tr>\n",
       "      <th>1</th>\n",
       "      <td>stampix (2).jpeg</td>\n",
       "      <td>0.10</td>\n",
       "    </tr>\n",
       "    <tr>\n",
       "      <th>2</th>\n",
       "      <td>stampix (3).jpeg</td>\n",
       "      <td>0.20</td>\n",
       "    </tr>\n",
       "    <tr>\n",
       "      <th>3</th>\n",
       "      <td>stampix (4).jpeg</td>\n",
       "      <td>0.94</td>\n",
       "    </tr>\n",
       "    <tr>\n",
       "      <th>4</th>\n",
       "      <td>stampix (5).jpeg</td>\n",
       "      <td>0.50</td>\n",
       "    </tr>\n",
       "  </tbody>\n",
       "</table>\n",
       "</div>"
      ],
      "text/plain": [
       "              Image  Score\n",
       "0  stampix (1).jpeg   0.90\n",
       "1  stampix (2).jpeg   0.10\n",
       "2  stampix (3).jpeg   0.20\n",
       "3  stampix (4).jpeg   0.94\n",
       "4  stampix (5).jpeg   0.50"
      ]
     },
     "execution_count": 15,
     "metadata": {},
     "output_type": "execute_result"
    }
   ],
   "source": [
    "# define the directory of the structured data\n",
    "dir_excel = \"C:\\\\Users\\\\i\\\\Desktop\\\\stampix\\\\\"\n",
    "\n",
    "# define the directory of the images\n",
    "dir_images = \"C:\\\\Users\\\\i\\\\Desktop\\\\stampix\\\\images\\\\\"\n",
    "\n",
    "# load the dataset\n",
    "df = pd.read_excel(dir_excel +\"data.xlsx\")\n",
    "df.head()"
   ]
  },
  {
   "cell_type": "code",
   "execution_count": 20,
   "id": "8eae66d0",
   "metadata": {},
   "outputs": [],
   "source": [
    "from PIL import Image\n",
    "import os\n",
    "\n",
    "# load images from the folder \n",
    "def load_images_from_folder(folder_path, img_height, img_width):\n",
    "    images = []\n",
    "    \n",
    "    for filename in os.listdir(folder_path):\n",
    "        img_path = os.path.join(folder_path, filename)\n",
    "        img = Image.open(img_path).convert('L')  # Convert to grayscale\n",
    "        img = img.resize((img_height, img_width))\n",
    "        img_array = np.array(img)\n",
    "        img_array = np.expand_dims(img_array, axis=-1)  # Add channel dimension\n",
    "        images.append(img_array)\n",
    "    \n",
    "    return np.array(images)\n",
    "\n",
    "printability_scores = df['Score'].values\n",
    "\n",
    "# Load images into X\n",
    "img_height = 28\n",
    "img_width = 28\n",
    "X = load_images_from_folder(dir_images, img_height, img_width)\n",
    "\n",
    "y = printability_scores/max(printability_scores)"
   ]
  },
  {
   "cell_type": "code",
   "execution_count": 21,
   "id": "b3964bf8",
   "metadata": {},
   "outputs": [
    {
     "name": "stdout",
     "output_type": "stream",
     "text": [
      "Model: \"sequential_1\"\n",
      "_________________________________________________________________\n",
      " Layer (type)                Output Shape              Param #   \n",
      "=================================================================\n",
      " conv2d_1 (Conv2D)           (None, 26, 26, 32)        320       \n",
      "                                                                 \n",
      " max_pooling2d_1 (MaxPooling  (None, 13, 13, 32)       0         \n",
      " 2D)                                                             \n",
      "                                                                 \n",
      " flatten_1 (Flatten)         (None, 5408)              0         \n",
      "                                                                 \n",
      " dense_2 (Dense)             (None, 64)                346176    \n",
      "                                                                 \n",
      " dense_3 (Dense)             (None, 1)                 65        \n",
      "                                                                 \n",
      "=================================================================\n",
      "Total params: 346,561\n",
      "Trainable params: 346,561\n",
      "Non-trainable params: 0\n",
      "_________________________________________________________________\n",
      "Epoch 1/10\n",
      "1/1 [==============================] - 0s 499ms/step - loss: 3828.1926 - mae: 58.6349 - val_loss: 328897.9062 - val_mae: 571.6772\n",
      "Epoch 2/10\n",
      "1/1 [==============================] - 0s 67ms/step - loss: 296329.9375 - mae: 538.9457 - val_loss: 32799.1328 - val_mae: 180.5852\n",
      "Epoch 3/10\n",
      "1/1 [==============================] - 0s 62ms/step - loss: 30024.9727 - mae: 171.0549 - val_loss: 1230.9504 - val_mae: 34.6949\n",
      "Epoch 4/10\n",
      "1/1 [==============================] - 0s 62ms/step - loss: 785.3009 - mae: 26.5119 - val_loss: 5669.4805 - val_mae: 74.8930\n",
      "Epoch 5/10\n",
      "1/1 [==============================] - 0s 60ms/step - loss: 4833.4204 - mae: 68.9006 - val_loss: 7660.1460 - val_mae: 87.0899\n",
      "Epoch 6/10\n",
      "1/1 [==============================] - 0s 62ms/step - loss: 6602.2896 - mae: 80.5434 - val_loss: 8858.6719 - val_mae: 93.6734\n",
      "Epoch 7/10\n",
      "1/1 [==============================] - 0s 64ms/step - loss: 7652.3071 - mae: 86.7194 - val_loss: 9249.6338 - val_mae: 95.7265\n",
      "Epoch 8/10\n",
      "1/1 [==============================] - 0s 65ms/step - loss: 7991.9087 - mae: 88.6222 - val_loss: 8949.6895 - val_mae: 94.1637\n",
      "Epoch 9/10\n",
      "1/1 [==============================] - 0s 65ms/step - loss: 7725.0928 - mae: 87.1258 - val_loss: 8134.8735 - val_mae: 89.7726\n",
      "Epoch 10/10\n",
      "1/1 [==============================] - 0s 68ms/step - loss: 7007.4409 - mae: 82.9719 - val_loss: 6994.2319 - val_mae: 83.2343\n",
      "1/1 [==============================] - 0s 29ms/step - loss: 6994.2319 - mae: 83.2343\n",
      "Test Mean Absolute Error: 83.23432159423828\n"
     ]
    }
   ],
   "source": [
    "import tensorflow as tf\n",
    "from tensorflow.keras import layers, models\n",
    "from sklearn.model_selection import train_test_split\n",
    "import numpy as np\n",
    "\n",
    "# Assuming X is the array of images and y is the array of printability scores\n",
    "\n",
    "# Split the data into training and testing sets\n",
    "X_train, X_test, y_train, y_test = train_test_split(X, y, test_size=0.2, random_state=42)\n",
    "\n",
    "# Define the model\n",
    "model = models.Sequential([\n",
    "    layers.Conv2D(32, (3, 3), activation='relu', input_shape=(28, 28, 1)),\n",
    "    layers.MaxPooling2D((2, 2)),\n",
    "    layers.Flatten(),\n",
    "    layers.Dense(64, activation='relu'),\n",
    "    layers.Dense(1, activation='linear')  # Output layer with linear activation for regression\n",
    "])\n",
    "\n",
    "# Compile the model\n",
    "model.compile(optimizer='adam', loss='mean_squared_error', metrics=['mae'])\n",
    "\n",
    "# Display the model summary\n",
    "model.summary()\n",
    "\n",
    "# Train the model\n",
    "history = model.fit(X_train, y_train, epochs=10, batch_size=32, validation_data=(X_test, y_test))\n",
    "\n",
    "# Evaluate the model\n",
    "test_loss, test_mae = model.evaluate(X_test, y_test)\n",
    "print(f'Test Mean Absolute Error: {test_mae}')\n",
    "\n",
    "# Save the model if needed\n",
    "model.save('printability_model.h5')"
   ]
  },
  {
   "cell_type": "code",
   "execution_count": 22,
   "id": "bb25d116",
   "metadata": {},
   "outputs": [
    {
     "name": "stdout",
     "output_type": "stream",
     "text": [
      "1/1 [==============================] - 0s 47ms/step\n",
      "True Printability Score: 0.4255319148936171, Predicted Printability Score: 84.21745300292969\n",
      "True Printability Score: 0.8085106382978724, Predicted Printability Score: 94.78190612792969\n",
      "True Printability Score: 0.002127659574468085, Predicted Printability Score: 85.47330474853516\n",
      "True Printability Score: 0.8968085106382979, Predicted Printability Score: 84.13089752197266\n",
      "True Printability Score: 0.053191489361702135, Predicted Printability Score: 92.01189422607422\n",
      "True Printability Score: 0.8191489361702128, Predicted Printability Score: 69.80243682861328\n",
      "True Printability Score: 0.5425531914893618, Predicted Printability Score: 75.7702407836914\n"
     ]
    }
   ],
   "source": [
    "# Predictions on the test set\n",
    "y_pred = model.predict(X_test)\n",
    "\n",
    "# Print the predicted values and corresponding true values\n",
    "for i in range(len(y_test)):\n",
    "    print(f\"True Printability Score: {y_test[i]}, Predicted Printability Score: {y_pred[i][0]}\")"
   ]
  },
  {
   "cell_type": "code",
   "execution_count": null,
   "id": "8fdbc832",
   "metadata": {},
   "outputs": [],
   "source": []
  }
 ],
 "metadata": {
  "kernelspec": {
   "display_name": "Python 3 (ipykernel)",
   "language": "python",
   "name": "python3"
  },
  "language_info": {
   "codemirror_mode": {
    "name": "ipython",
    "version": 3
   },
   "file_extension": ".py",
   "mimetype": "text/x-python",
   "name": "python",
   "nbconvert_exporter": "python",
   "pygments_lexer": "ipython3",
   "version": "3.9.17"
  }
 },
 "nbformat": 4,
 "nbformat_minor": 5
}
